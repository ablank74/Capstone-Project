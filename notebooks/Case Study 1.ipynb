{
 "cells": [
  {
   "cell_type": "markdown",
   "metadata": {},
   "source": [
    "Install required modules"
   ]
  },
  {
   "cell_type": "code",
   "execution_count": null,
   "metadata": {},
   "outputs": [],
   "source": [
    "%pip install kagglehub \n",
    "%pip install numpy pandas matplotlib seaborn scikit-learn scikit-image tqdm"
   ]
  },
  {
   "cell_type": "markdown",
   "metadata": {},
   "source": [
    "Load Modules"
   ]
  },
  {
   "cell_type": "code",
   "execution_count": 2,
   "metadata": {},
   "outputs": [],
   "source": [
    "# Load Modules\n",
    "import pandas as pd\n",
    "import numpy as np\n",
    "from sklearn.model_selection import train_test_split\n",
    "from sklearn.preprocessing import StandardScaler\n",
    "from sklearn.ensemble import RandomForestClassifier\n",
    "from sklearn.metrics import classification_report, confusion_matrix\n",
    "import seaborn as sns\n",
    "import matplotlib.pyplot as plt"
   ]
  },
  {
   "cell_type": "markdown",
   "metadata": {},
   "source": [
    "Download the dataset and save it localy"
   ]
  },
  {
   "cell_type": "code",
   "execution_count": null,
   "metadata": {},
   "outputs": [],
   "source": [
    "import os\n",
    "import kagglehub\n",
    "import shutil\n",
    "import tqdm\n",
    "\n",
    "# Create data directory if it doesn't exist\n",
    "os.makedirs(\"./data\", exist_ok=True)\n",
    "\n",
    "# Download the dataset (this will go to a temporary location)\n",
    "path = kagglehub.dataset_download(\"pavansubhasht/ibm-hr-analytics-attrition-dataset\")\n",
    "\n",
    "# Move the downloaded file to your desired location\n",
    "path = path+\"/WA_Fn-UseC_-HR-Employee-Attrition.csv\"\n",
    "shutil.copy(path, \"./data/ibm_hr_dataset.csv\")"
   ]
  },
  {
   "cell_type": "markdown",
   "metadata": {},
   "source": [
    "Load the dataset"
   ]
  },
  {
   "cell_type": "code",
   "execution_count": null,
   "metadata": {},
   "outputs": [],
   "source": [
    "\"\"\"Load and prepare the IBM HR Analytics dataset\"\"\"\n",
    "df = pd.read_csv('./data/ibm_hr_dataset.csv')\n",
    "\n",
    "# Convert categorical variables to numeric\n",
    "categorical_columns = ['BusinessTravel', 'Department', 'EducationField', \n",
    "                        'Gender', 'JobRole', 'MaritalStatus', 'OverTime']\n",
    "df_encoded = pd.get_dummies(df, columns=categorical_columns)\n",
    "\n",
    "df, df_encoded"
   ]
  },
  {
   "cell_type": "markdown",
   "metadata": {},
   "source": [
    "Basic overview of company wide attrition, yes have left the company, while no have not left the company."
   ]
  },
  {
   "cell_type": "code",
   "execution_count": null,
   "metadata": {},
   "outputs": [],
   "source": [
    "# Cell 1: Basic Attrition Distribution\n",
    "# Visualize overall attrition distribution\n",
    "attrition_dist = df['Attrition'].value_counts()\n",
    "attrition_pct = df['Attrition'].value_counts(normalize=True) * 100\n",
    "\n",
    "plt.figure(figsize=(10, 6))\n",
    "sns.countplot(data=df, x='Attrition')\n",
    "plt.title('Employee Attrition Distribution')\n",
    "plt.show()\n",
    "\n",
    "print(\"\\nAttrition Distribution:\")\n",
    "for label, count, percentage in zip(attrition_dist.index, attrition_dist.values, attrition_pct.values):\n",
    "    print(f\"{label}: {count} employees ({percentage:.1f}%)\")"
   ]
  },
  {
   "cell_type": "markdown",
   "metadata": {},
   "source": [
    "In this series of box we see attrition rate for sevreal features.  Yes employees are leaving the company, and no employees are staying."
   ]
  },
  {
   "cell_type": "code",
   "execution_count": null,
   "metadata": {},
   "outputs": [],
   "source": [
    "# Cell 2: Numerical Features Analysis\n",
    "# Analyze numerical features vs attrition\n",
    "numerical_features = ['Age', 'DailyRate', 'DistanceFromHome', 'MonthlyIncome', \n",
    "                     'NumCompaniesWorked', 'PercentSalaryHike', 'TotalWorkingYears', \n",
    "                     'YearsAtCompany', 'YearsInCurrentRole']\n",
    "\n",
    "plt.figure(figsize=(15, 10))\n",
    "for i, feature in enumerate(numerical_features, 1):\n",
    "    plt.subplot(3, 3, i)\n",
    "    sns.boxplot(data=df, x='Attrition', y=feature)\n",
    "    plt.title(f'{feature} vs Attrition')\n",
    "plt.tight_layout()\n",
    "plt.show()"
   ]
  },
  {
   "cell_type": "markdown",
   "metadata": {},
   "source": [
    "Here we look at the attrition rate for each category of the categorical features.  We can see that employees who have left the company are more likely to have a higher distance from home, in Sales, and are single with a lower monthly income and education and work more overtime."
   ]
  },
  {
   "cell_type": "code",
   "execution_count": null,
   "metadata": {},
   "outputs": [],
   "source": [
    "# Cell 3: Categorical Features Analysis\n",
    "# Analyze categorical features vs attrition\n",
    "categorical_features = ['BusinessTravel', 'Department', 'Education', \n",
    "                       'JobRole', 'MaritalStatus', 'OverTime']\n",
    "\n",
    "plt.figure(figsize=(15, 10))\n",
    "for i, feature in enumerate(categorical_features, 1):\n",
    "    plt.subplot(2, 3, i)\n",
    "    df_pct = df.groupby(feature)['Attrition'].value_counts(normalize=True).unstack()\n",
    "    df_pct['Yes'].sort_values(ascending=False).plot(kind='bar')\n",
    "    plt.title(f'Attrition Rate by {feature}')\n",
    "    plt.xlabel(feature)\n",
    "    plt.ylabel('Attrition Rate')\n",
    "    plt.xticks(rotation=45)\n",
    "plt.tight_layout()\n",
    "plt.show()"
   ]
  },
  {
   "cell_type": "markdown",
   "metadata": {},
   "source": [
    "Here we handle our pre processing.  We convert our categorical variables to numeric using one hot encoding.  We also convert our target variable to numeric.  We then split our data into features and target."
   ]
  },
  {
   "cell_type": "code",
   "execution_count": 8,
   "metadata": {},
   "outputs": [],
   "source": [
    "# Cell 4: Data Preprocessing\n",
    "# Convert categorical variables to numeric\n",
    "categorical_columns = ['BusinessTravel', 'Department', 'EducationField', \n",
    "                      'Gender', 'JobRole', 'MaritalStatus', 'OverTime', 'Over18']\n",
    "df_encoded = pd.get_dummies(df, columns=categorical_columns)\n",
    "\n",
    "# Convert 'Attrition' to numeric\n",
    "df_encoded['Attrition'] = (df['Attrition'] == 'Yes').astype(int)\n",
    "\n",
    "# Split features and target\n",
    "X = df_encoded.drop('Attrition', axis=1)\n",
    "y = df_encoded['Attrition']\n",
    "\n",
    "# Split the data\n",
    "X_train, X_test, y_train, y_test = train_test_split(X, y, test_size=0.2, random_state=42)\n",
    "\n",
    "# Scale the features\n",
    "scaler = StandardScaler()\n",
    "X_train_scaled = scaler.fit_transform(X_train)\n",
    "X_test_scaled = scaler.transform(X_test)"
   ]
  },
  {
   "cell_type": "markdown",
   "metadata": {},
   "source": [
    "Now that we have pre processed our data we can train our model.  We use a random forest classifier.  We then make predictions and print the classification report."
   ]
  },
  {
   "cell_type": "code",
   "execution_count": null,
   "metadata": {},
   "outputs": [],
   "source": [
    "# Cell 5: Model Training and Evaluation\n",
    "# Train Random Forest model\n",
    "rf_model = RandomForestClassifier(random_state=42)\n",
    "rf_model.fit(X_train_scaled, y_train)\n",
    "\n",
    "# Make predictions\n",
    "y_pred = rf_model.predict(X_test_scaled)\n",
    "\n",
    "# Print classification report\n",
    "print(\"Model Performance:\")\n",
    "print(classification_report(y_test, y_pred))"
   ]
  },
  {
   "cell_type": "markdown",
   "metadata": {},
   "source": [
    "Here we look at the importance of each feature in predicting attrition.  We can see that the top features are the monthly income, age and overtime."
   ]
  },
  {
   "cell_type": "code",
   "execution_count": null,
   "metadata": {},
   "outputs": [],
   "source": [
    "# Cell 6: Feature Importance Visualization\n",
    "# Get feature importance\n",
    "feature_importance = pd.DataFrame({\n",
    "    'feature': X.columns,\n",
    "    'importance': rf_model.feature_importances_\n",
    "})\n",
    "\n",
    "# Plot top 15 most important features\n",
    "plt.figure(figsize=(12, 6))\n",
    "feature_importance.sort_values('importance', ascending=False).head(15).plot(\n",
    "    x='feature', y='importance', kind='bar')\n",
    "plt.title('Top 15 Most Important Features for Predicting Attrition')\n",
    "plt.xlabel('Features')\n",
    "plt.ylabel('Importance')\n",
    "plt.xticks(rotation=45, ha='right')\n",
    "plt.tight_layout()\n",
    "plt.show()"
   ]
  },
  {
   "cell_type": "markdown",
   "metadata": {},
   "source": [
    "Here we determine what a high attrition employee is.  We can see that they are older, have a higher monthly income, have worked at more companies, and have a higher percent salary hike.\n"
   ]
  },
  {
   "cell_type": "code",
   "execution_count": null,
   "metadata": {},
   "outputs": [],
   "source": [
    "# Profile of High Attrition Employees\n",
    "# Calculate mean values for numerical features by attrition status\n",
    "numerical_features = ['Age', 'DailyRate', 'DistanceFromHome', 'MonthlyIncome', \n",
    "                     'NumCompaniesWorked', 'PercentSalaryHike', 'TotalWorkingYears', \n",
    "                     'YearsAtCompany', 'YearsInCurrentRole']\n",
    "\n",
    "profile = df.groupby('Attrition')[numerical_features].mean()\n",
    "\n",
    "# Calculate percentages for categorical features\n",
    "categorical_features = ['BusinessTravel', 'Department', 'Education', \n",
    "                       'JobRole', 'MaritalStatus', 'OverTime']\n",
    "\n",
    "cat_profile = {}\n",
    "for feature in categorical_features:\n",
    "    cat_profile[feature] = df[df['Attrition'] == 'Yes'][feature].value_counts(normalize=True)\n",
    "\n",
    "# Print the profile\n",
    "print(\"Profile of Employees Who Leave (High Attrition):\")\n",
    "print(\"\\nNumerical Characteristics (Averages):\")\n",
    "print(profile.loc['Yes'].round(2))\n",
    "\n",
    "print(\"\\nCategorical Characteristics (Top Categories):\")\n",
    "for feature, dist in cat_profile.items():\n",
    "    print(f\"\\n{feature}:\")\n",
    "    print(dist.head(3).round(3) * 100)"
   ]
  },
  {
   "cell_type": "markdown",
   "metadata": {},
   "source": [
    "Finally we look at the full dataset and determine the 5 most likely to leave the company.  We can see that they are older, have a higher monthly income, have worked at more companies, and have a higher percent salary hike and what it would take to keep them."
   ]
  },
  {
   "cell_type": "code",
   "execution_count": null,
   "metadata": {},
   "outputs": [],
   "source": [
    "# Use our trained model to get probability predictions for all employees\n",
    "X_all_scaled = scaler.transform(X)\n",
    "attrition_probs = rf_model.predict_proba(X_all_scaled)[:, 1]  # Probability of leaving\n",
    "\n",
    "# Add probabilities to original dataframe\n",
    "df['Attrition_Risk'] = attrition_probs\n",
    "\n",
    "# Get top 5 at-risk employees with their key characteristics\n",
    "high_risk = df.nlargest(5, 'Attrition_Risk')[['Age', 'JobRole', 'MonthlyIncome', \n",
    "                                             'OverTime', 'DistanceFromHome', \n",
    "                                             'YearsAtCompany', 'JobSatisfaction',\n",
    "                                             'WorkLifeBalance', 'Department',\n",
    "                                             'Attrition_Risk']]\n",
    "\n",
    "# Print detailed analysis for each high-risk employee\n",
    "print(\"Top 5 Employees at Risk of Leaving:\\n\")\n",
    "for idx, employee in high_risk.iterrows():\n",
    "    print(f\"Employee Risk Score: {employee['Attrition_Risk']:.2%}\")\n",
    "    print(f\"Current Role: {employee['JobRole']}\")\n",
    "    print(f\"Department: {employee['Department']}\")\n",
    "    print(f\"Age: {employee['Age']}\")\n",
    "    print(f\"Monthly Income: ${employee['MonthlyIncome']:,.2f}\")\n",
    "    print(f\"Works Overtime: {employee['OverTime']}\")\n",
    "    print(f\"Distance From Home: {employee['DistanceFromHome']} miles\")\n",
    "    print(f\"Years at Company: {employee['YearsAtCompany']}\")\n",
    "    print(f\"Job Satisfaction: {employee['JobSatisfaction']}/4\")\n",
    "    print(f\"Work Life Balance: {employee['WorkLifeBalance']}/4\")\n",
    "    \n",
    "    # Recommend retention strategies based on key factors\n",
    "    print(\"\\nRetention Recommendations:\")\n",
    "    recommendations = []\n",
    "    \n",
    "    if employee['OverTime'] == 'Yes':\n",
    "        recommendations.append(\"- Consider reducing overtime or providing additional compensation/time off\")\n",
    "    \n",
    "    if employee['JobSatisfaction'] < 3:\n",
    "        recommendations.append(\"- Schedule career development discussion and explore growth opportunities\")\n",
    "    \n",
    "    if employee['MonthlyIncome'] < df[df['JobRole'] == employee['JobRole']]['MonthlyIncome'].mean():\n",
    "        recommendations.append(\"- Review compensation relative to role peers\")\n",
    "    \n",
    "    if employee['WorkLifeBalance'] < 3:\n",
    "        recommendations.append(\"- Evaluate workload and consider flexible working arrangements\")\n",
    "    \n",
    "    if employee['DistanceFromHome'] > 10:\n",
    "        recommendations.append(\"- Discuss hybrid/remote work options\")\n",
    "    \n",
    "    for rec in recommendations:\n",
    "        print(rec)\n",
    "    print(\"\\n\" + \"-\"*50 + \"\\n\")"
   ]
  }
 ],
 "metadata": {
  "kernelspec": {
   "display_name": "Python 3",
   "language": "python",
   "name": "python3"
  },
  "language_info": {
   "codemirror_mode": {
    "name": "ipython",
    "version": 3
   },
   "file_extension": ".py",
   "mimetype": "text/x-python",
   "name": "python",
   "nbconvert_exporter": "python",
   "pygments_lexer": "ipython3",
   "version": "3.10.12"
  }
 },
 "nbformat": 4,
 "nbformat_minor": 2
}
